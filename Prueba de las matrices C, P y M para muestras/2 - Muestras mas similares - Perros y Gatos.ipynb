{
 "cells": [
  {
   "cell_type": "markdown",
   "metadata": {},
   "source": [
    "# Librerias"
   ]
  },
  {
   "cell_type": "code",
   "execution_count": 1,
   "metadata": {},
   "outputs": [
    {
     "name": "stdout",
     "output_type": "stream",
     "text": [
      "WARNING:tensorflow:From C:\\Users\\Cesar\\AppData\\Local\\Temp\\ipykernel_2796\\3426895207.py:13: The name tf.logging.set_verbosity is deprecated. Please use tf.compat.v1.logging.set_verbosity instead.\n",
      "\n"
     ]
    }
   ],
   "source": [
    "# Carga de librerías\n",
    "import numpy as np\n",
    "import tensorflow as tf\n",
    "import PIL\n",
    "import PIL.Image\n",
    "import pathlib\n",
    "import scipy as sp\n",
    "import seaborn as sns\n",
    "from itertools import product\n",
    "import matplotlib.pyplot as plt\n",
    "import pandas as pd\n",
    "import tensorflow as tf\n",
    "tf.compat.v1.logging.set_verbosity(tf.compat.v1.logging.ERROR)\n",
    "import os\n",
    "import pathlib\n",
    "from pathlib import Path  "
   ]
  },
  {
   "cell_type": "code",
   "execution_count": 2,
   "metadata": {},
   "outputs": [],
   "source": [
    "import pickle\n",
    "import sys\n",
    "from pathlib import Path\n",
    "\n",
    "# Añadir el directorio raíz del proyecto a sys.path\n",
    "module_path = Path('/Users/Cesar/Desktop/Proyecto-CSG/').resolve()\n",
    "if module_path not in sys.path:\n",
    "    sys.path.append(str(module_path))\n",
    "\n",
    "# Añadir el directorio que contiene 'new_spectral_metric' a sys.path\n",
    "new_spectral_metric_path = module_path / '/Users/Cesar/Desktop/Proyecto-CSG/new_spectral_metric/'\n",
    "if new_spectral_metric_path not in sys.path:\n",
    "    sys.path.append(str(new_spectral_metric_path))\n",
    "\n",
    "from numpy.linalg import LinAlgError\n",
    "from scipy.sparse.csgraph import laplacian\n",
    "# from spectral_metric.lib import find_samples, compute_expectation_with_monter_carlo \n",
    "from new_spectral_metric.new_estimator import CumulativeGradientEstimator\n",
    "from new_spectral_metric.new_visualize import make_graph\n",
    "from tensorflow.keras.models import Sequential\n",
    "from tensorflow.keras.layers import Flatten, Conv2D, Dense, MaxPooling2D, Lambda\n",
    "from tensorflow.keras import backend as K\n",
    "from pathlib import Path\n",
    "from tensorflow.keras.preprocessing.image import ImageDataGenerator\n",
    "from matplotlib.collections import LineCollection\n",
    "from matplotlib.font_manager import FontProperties\n",
    "from pathlib import Path"
   ]
  },
  {
   "cell_type": "markdown",
   "metadata": {},
   "source": [
    "# DATASET DESDE DIRECTORIO "
   ]
  },
  {
   "cell_type": "code",
   "execution_count": 3,
   "metadata": {},
   "outputs": [
    {
     "name": "stdout",
     "output_type": "stream",
     "text": [
      "Total imagenes dataset: 697\n",
      "Total imagenes train: 557\n",
      "Total imagenes test: 140\n"
     ]
    }
   ],
   "source": [
    "\n",
    "directorio_dataset = ('../Datasets/Perros y Gatos')\n",
    "directorio_dataset = pathlib.Path(directorio_dataset)\n",
    "\n",
    "# Lectura de la carpeta train\n",
    "directorio_train = ('../Datasets/Perros y Gatos/train')\n",
    "directorio_train = pathlib.Path(directorio_train)\n",
    "\n",
    "# Lectura de la carpeta test\n",
    "directorio_test = ('../Datasets/Perros y Gatos/test')\n",
    "directorio_test = pathlib.Path(directorio_test)\n",
    "\n",
    "\n",
    "total_dataset = len(list(directorio_dataset.glob('*/*/*.jpg')))  # Cuenta la cantidad de imagenes del dataset (Aqui busca en las subcarpetas del directorio del dataset)\n",
    "total_train = len(list(directorio_train.glob('*/*.jpg')))  # Cuenta la cantidad de imagenes de train\n",
    "total_test = len(list(directorio_test.glob('*/*.jpg')))  # Cuenta la cantidad de imagenes de test\n",
    "\n",
    "print(f\"Total imagenes dataset: {total_dataset}\")\n",
    "print(f\"Total imagenes train: {total_train}\")\n",
    "print(f\"Total imagenes test: {total_test}\")"
   ]
  },
  {
   "cell_type": "code",
   "execution_count": 4,
   "metadata": {},
   "outputs": [],
   "source": [
    "# Definir el batchsize del dataset completo\n",
    "batch_size_total = total_dataset"
   ]
  },
  {
   "cell_type": "code",
   "execution_count": 5,
   "metadata": {},
   "outputs": [],
   "source": [
    "# Dimensiones de imagen y tamaño de batch en train\n",
    "img_height = 32\n",
    "img_width = 32\n",
    "#batch_size = 32\n",
    "batch_size_train = total_train"
   ]
  },
  {
   "cell_type": "code",
   "execution_count": 6,
   "metadata": {},
   "outputs": [
    {
     "name": "stdout",
     "output_type": "stream",
     "text": [
      "Found 557 files belonging to 2 classes.\n"
     ]
    }
   ],
   "source": [
    "\n",
    "import tensorflow as tf\n",
    "import pathlib\n",
    "\n",
    "# Data splitting (entrenamiento y validación)\n",
    "train_images = tf.keras.preprocessing.image_dataset_from_directory(\n",
    "  directorio_train,\n",
    "  #validation_split=0.2,\n",
    "  color_mode='rgb',\n",
    "  label_mode='int',\n",
    "  #subset=\"training\",\n",
    "  #seed=123,\n",
    "  shuffle=False,\n",
    "  image_size=(img_height, img_width),\n",
    "  batch_size=batch_size_train)"
   ]
  },
  {
   "cell_type": "code",
   "execution_count": 7,
   "metadata": {},
   "outputs": [],
   "source": [
    "# Dimensiones de imagen y tamaño de batch en test\n",
    "img_height = 32\n",
    "img_width = 32\n",
    "#batch_size = 32\n",
    "batch_size_test = total_test"
   ]
  },
  {
   "cell_type": "code",
   "execution_count": 8,
   "metadata": {},
   "outputs": [
    {
     "name": "stdout",
     "output_type": "stream",
     "text": [
      "Found 140 files belonging to 2 classes.\n"
     ]
    }
   ],
   "source": [
    "# Data splitting (entrenamiento y validación)\n",
    "test_images = tf.keras.preprocessing.image_dataset_from_directory(\n",
    "  directorio_test,\n",
    "  #validation_split=0.2,\n",
    "  color_mode='rgb',\n",
    "  label_mode='int',\n",
    "  #subset=\"training\",\n",
    "  #seed=123,\n",
    "  shuffle=False,\n",
    "  image_size=(img_height, img_width),\n",
    "  batch_size=batch_size_test)"
   ]
  },
  {
   "cell_type": "code",
   "execution_count": 9,
   "metadata": {},
   "outputs": [
    {
     "name": "stdout",
     "output_type": "stream",
     "text": [
      "\n",
      "Total de imágenes por clase en train:\n",
      "Clase: cats_train, Número de imágenes: 279\n",
      "Clase: dogs_train, Número de imágenes: 278\n",
      "Total imagenes train: 557\n",
      "\n",
      "Total de imágenes por clase en test:\n",
      "Clase: cats_test, Número de imágenes: 70\n",
      "Clase: dogs_test, Número de imágenes: 70\n",
      "Total imagenes test: 140\n"
     ]
    }
   ],
   "source": [
    "\n",
    "class_counts_total = {p.name: len(list(p.glob('*.jpg'))) for p in directorio_dataset.glob('*/*')}\n",
    "class_counts_train = {p.name: len(list(p.glob('*.jpg'))) for p in directorio_train.glob('*')}\n",
    "class_counts_test = {p.name: len(list(p.glob('*.jpg'))) for p in directorio_test.glob('*')}\n",
    "\n",
    "# Encontrar el valor más bajo de imágenes por clase en train  \n",
    "menor_train = min(class_counts_train.values()) if class_counts_train else None  # Se almacena el valor de la clase que menos muestras tiene\n",
    "\n",
    "# Encontrar el valor más bajo de imágenes por clase en test  \n",
    "menor_test = min(class_counts_test.values()) if class_counts_test else None  # Se almacena el valor de la clase que menos muestras tiene\n",
    "\n",
    "# Mostrar el total de imágenes por clase en train  \n",
    "print(\"\\nTotal de imágenes por clase en train:\")  \n",
    "for class_name, count in class_counts_train.items():  \n",
    "    print(f\"Clase: {class_name}, Número de imágenes: {count}\")  \n",
    "print(f\"Total imágenes train: {sum(class_counts_train.values())}\")  \n",
    "\n",
    "# Mostrar el valor más bajo en train  \n",
    "print(f\"Menor número de imágenes en train: {menor_train}\")  \n",
    "\n",
    "# Mostrar el total de imágenes por clase en test  \n",
    "print(\"\\nTotal de imágenes por clase en test:\")  \n",
    "for class_name, count in class_counts_test.items():  \n",
    "    print(f\"Clase: {class_name}, Número de imágenes: {count}\")  \n",
    "print(f\"Total imágenes test: {sum(class_counts_test.values())}\")  \n",
    "\n",
    "# Mostrar el valor más bajo en test  \n",
    "print(f\"Menor número de imágenes en test: {menor_test}\")"
   ]
  },
  {
   "cell_type": "code",
   "execution_count": 10,
   "metadata": {},
   "outputs": [
    {
     "name": "stdout",
     "output_type": "stream",
     "text": [
      "\n",
      "Número de clases en train: 2\n",
      "Nombres de las clases en train: ['cats_train', 'dogs_train']\n",
      "\n",
      "Número de clases en test: 2\n",
      "Nombres de las clases en test: ['cats_test', 'dogs_test']\n",
      "\n",
      "Número total de clases en el dataset: 4\n",
      "Nombres de todas las clases en el dataset: ['cats_test', 'dogs_test', 'cats_train', 'dogs_train']\n"
     ]
    }
   ],
   "source": [
    "# Nombres de las clases\n",
    "class_names_train = list(class_counts_train.keys())\n",
    "class_names_test = list(class_counts_test.keys())\n",
    "#class_names_total = sorted(list(set(class_names_train + class_names_test)))\n",
    "class_names_total = list(class_counts_total.keys())\n",
    "\n",
    "# Mostrar el número de clases y los nombres\n",
    "print(f\"\\nNúmero de clases en train: {len(class_names_train)}\")\n",
    "print(f\"Nombres de las clases en train: {class_names_train}\")\n",
    "\n",
    "print(f\"\\nNúmero de clases en test: {len(class_names_test)}\")\n",
    "print(f\"Nombres de las clases en test: {class_names_test}\")\n",
    "\n",
    "print(f\"\\nNúmero total de clases en el dataset: {len(class_names_total)}\")   # Este valor cambio si el nombre de las clases es diferente\n",
    "print(f\"Nombres de todas las clases en el dataset: {class_names_total}\")     # Este valor tambien cambia si el nombre de las clases es diferente"
   ]
  },
  {
   "cell_type": "code",
   "execution_count": 11,
   "metadata": {},
   "outputs": [
    {
     "name": "stdout",
     "output_type": "stream",
     "text": [
      "(557, 32, 32, 3)\n"
     ]
    }
   ],
   "source": [
    "for images, labels0 in train_images.take(1):  # only take first element of dataset\n",
    "    numpy_all_images = images.numpy()  # convertir el tensor de imágenes en un arreglo de numpy y ahora contiene las imágenes del conjunto de datos en formato de numpy.\n",
    "    numpy_all_labels = labels0.numpy()  # convierte el tensor de etiquetas en un arreglo de numpy y ahora contiene las etiquetas del conjunto de datos en formato de numpy\n",
    "\n",
    "numpy_all_images /= 255.0  # Scale the features to the [0, 1] range\n",
    "print(numpy_all_images.shape)"
   ]
  },
  {
   "cell_type": "markdown",
   "metadata": {},
   "source": [
    "# Dataset complexity using CSG"
   ]
  },
  {
   "cell_type": "code",
   "execution_count": 12,
   "metadata": {},
   "outputs": [
    {
     "name": "stderr",
     "output_type": "stream",
     "text": [
      "c:\\Users\\Cesar\\AppData\\Local\\Programs\\Python\\Python312\\Lib\\site-packages\\numpy\\core\\_methods.py:53: RuntimeWarning: overflow encountered in reduce\n",
      "  return umr_prod(a, axis, dtype, out, keepdims, initial, where)\n",
      "c:\\Users\\Cesar\\AppData\\Local\\Programs\\Python\\Python312\\Lib\\site-packages\\numpy\\core\\_methods.py:53: RuntimeWarning: overflow encountered in reduce\n",
      "  return umr_prod(a, axis, dtype, out, keepdims, initial, where)\n",
      "C:\\Users\\Cesar\\Desktop\\Proyecto-CSG\\new_spectral_metric\\new_visualize.py:48: RuntimeWarning: divide by zero encountered in divide\n",
      "  similarities = difference.max() / difference * 100\n",
      "C:\\Users\\Cesar\\Desktop\\Proyecto-CSG\\new_spectral_metric\\new_visualize.py:59: UserWarning: This figure includes Axes that are not compatible with tight_layout, so results might be incorrect.\n",
      "  plt.tight_layout()\n"
     ]
    },
    {
     "data": {
      "image/png": "[encoded data removed]",
      "text/plain": [
       "<Figure size 1920x1440 with 1 Axes>"
      ]
     },
     "metadata": {},
     "output_type": "display_data"
    }
   ],
   "source": [
    "# CIFAR-10 Two classes\n",
    "fully_dataset_train = numpy_all_images.reshape((numpy_all_images.shape[0], numpy_all_images.shape[1]*numpy_all_images.shape[2]*numpy_all_images.shape[3])) # es un arreglo bidimensional donde cada fila representa una imagen y cada columna representa un píxel de la imagen\n",
    "fully_labels_train = numpy_all_labels.reshape(numpy_all_labels.shape[0],)\n",
    "\n",
    "estimator = CumulativeGradientEstimator(M_sample=menor_train, k_nearest=10)\n",
    "estimator.fit(data=fully_dataset_train, target=fully_labels_train)\n",
    "csg = estimator.csg  # The actual complexity values.\n",
    "estimator.evals, estimator.evecs  # The eigenvalues and vectors.\n",
    "\n",
    "make_graph(estimator.difference, title=\"Dataset Complexity - Perros y Gatos, CSG (complexity): \"+str(csg), classes=class_names_train)"
   ]
  },
  {
   "cell_type": "markdown",
   "metadata": {},
   "source": [
    "# Calcular la similitud entre clases"
   ]
  },
  {
   "cell_type": "code",
   "execution_count": 13,
   "metadata": {},
   "outputs": [
    {
     "name": "stdout",
     "output_type": "stream",
     "text": [
      "Class that is the least confused (lowest entropy): cats_train\n"
     ]
    }
   ],
   "source": [
    "from scipy.stats import entropy  \n",
    "import pandas as pd  \n",
    "\n",
    "# Calcular la entropía por clase  \n",
    "entropy_per_class = entropy(estimator.W / estimator.W.sum(-1)[:, None], axis=-1)  \n",
    "\n",
    "# Encontrar la clase más confusa (mayor entropía)  \n",
    "most_confused_class_index = np.argmax(entropy_per_class)  \n",
    "most_confused_class_name = class_names_train[most_confused_class_index]  \n",
    "\n",
    "print(\"Class that is the most confused (highest entropy):\", most_confused_class_name)"
   ]
  },
  {
   "cell_type": "code",
   "execution_count": 14,
   "metadata": {},
   "outputs": [
    {
     "name": "stdout",
     "output_type": "stream",
     "text": [
      "Least similar pairs\n",
      "                Intent pair  Similarity\n",
      "0  cats_train <> dogs_train    0.936377\n"
     ]
    }
   ],
   "source": [
    "# Obtener los índices de los pares más similares  \n",
    "\n",
    "pairs = list(zip(*np.unravel_index(np.argsort(-estimator.W, axis=None), estimator.W.shape)))  \n",
    "\n",
    "# Filtrar pares donde i != j para evitar pares de la misma clase  \n",
    "pairs = [(i, j) for i, j in pairs if i != j]  \n",
    "\n",
    "print(\"Most similar pairs\")  \n",
    "lst = []  \n",
    "seen_pairs = set()  \n",
    "\n",
    "# Iterar sobre los primeros 10 pares más similares  \n",
    "for i, j in pairs:  \n",
    "    # Verificar si el par o su inverso ya ha sido visto  \n",
    "    if (i, j) not in seen_pairs and (j, i) not in seen_pairs:  \n",
    "        lst.append({\"Intent pair\": f\"{class_names_train[i]} <> {class_names_train[j]}\", \"Similarity\": estimator.W[i, j]})  \n",
    "        seen_pairs.add((i, j))  \n",
    "        seen_pairs.add((j, i))  \n",
    "    \n",
    "    # Detenerse después de encontrar 10 pares únicos  \n",
    "    if len(lst) == 10:  \n",
    "        break  \n",
    "\n",
    "# Mostrar los resultados en un DataFrame  \n",
    "print(pd.DataFrame(lst))"
   ]
  },
  {
   "cell_type": "markdown",
   "metadata": {},
   "source": [
    "# Obtener los nombres de las imagenes en train o test (dependiendo de lo que se quiera probar)"
   ]
  },
  {
   "cell_type": "code",
   "execution_count": 15,
   "metadata": {},
   "outputs": [],
   "source": [
    "# Obtener todos los nombres de archivo en el dataset\n",
    "filenames = [str(f) for f in directorio_train.glob('*/*.jpg')]\n",
    "\n",
    "# Crear un mapeo de índices a rutas completas de archivo  \n",
    "filenames_dict = {i: str(f) for i, f in enumerate(directorio_train.glob('*/*.jpg'))} \n"
   ]
  },
  {
   "cell_type": "markdown",
   "metadata": {},
   "source": [
    "# Calcular la similitud entre muestras"
   ]
  },
  {
   "cell_type": "markdown",
   "metadata": {},
   "source": [
    "# 1. Visualizar las muestras (par de imagenes) mas similares entre la misma clase"
   ]
  },
  {
   "cell_type": "code",
   "execution_count": null,
   "metadata": {},
   "outputs": [],
   "source": [
    "# Función para encontrar y mostrar las imágenes más similares dentro de cada clase usando la matriz C  \n",
    "\n",
    "def show_most_similar_using_C_all_classes(estimator, class_names, filenames_dict):  \n",
    "    images_to_show = []  # Lista para almacenar las imágenes y sus detalles  \n",
    "\n",
    "    # Recorre las clases y genera la lista de descripciones  \n",
    "    for class_intent in range(len(class_names)):  \n",
    "        class_name = class_names[class_intent]  \n",
    "        print(f\"Clase: {class_name}\")  \n",
    "        \n",
    "        # Obtener la matriz de similitud de las muestras dentro de la clase  \n",
    "        C = estimator.C[class_intent]  \n",
    "        \n",
    "        # Ordenar los índices según las similitudes (de mayor a menor)  \n",
    "        most_similar_indices = np.argsort(-C, axis=None)  \n",
    "        \n",
    "        shown_pairs = set()  # Para rastrear los pares de índices ya mostrados  \n",
    "        count = 0  \n",
    "        show_samples = 10  # Número de muestras para visualizar la similitud  \n",
    "        \n",
    "        for idx in most_similar_indices:  \n",
    "            if count >= show_samples:  \n",
    "                break  \n",
    "            \n",
    "            # Convertir el índice plano a índice 2D  \n",
    "            idx_2d = np.unravel_index(idx, C.shape)  \n",
    "            \n",
    "            # Saltar las comparaciones de una muestra consigo misma  \n",
    "            if idx_2d[0] == idx_2d[1]:  \n",
    "                continue  \n",
    "            \n",
    "            # Crear un par ordenado de índices para prevenir duplicados  \n",
    "            index_pair = tuple(sorted((idx_2d[0], idx_2d[1])))  \n",
    "            \n",
    "            # Verificamos si el par ya fue mostrado  \n",
    "            if index_pair in shown_pairs:  \n",
    "                continue  \n",
    "            \n",
    "            shown_pairs.add(index_pair)  \n",
    "            \n",
    "            # Obtener los índices de las muestras en el dataset  \n",
    "            source_idx = estimator.class_indices[class_intent][idx_2d[0]]  \n",
    "            target_idx = estimator.class_indices[class_intent][idx_2d[1]]  \n",
    "            \n",
    "            # Verificar que los índices estén dentro de los límites del dataset  \n",
    "            if source_idx < len(filenames_dict) and target_idx < len(filenames_dict):  \n",
    "                source_filename = Path(filenames_dict[int(source_idx)])  \n",
    "                target_filename = Path(filenames_dict[int(target_idx)])  \n",
    "                \n",
    "                value = C[idx_2d]  \n",
    "                \n",
    "                # Formatear y mostrar la salida  \n",
    "                print(f\"\\t{source_filename.name} ({class_name}) vs {target_filename.name} ({class_name}), Similitud: {value:.4f}\")  \n",
    "                \n",
    "                # Agrega los detalles a la lista para visualización  \n",
    "                images_to_show.append((source_filename, target_filename, class_name, value))  \n",
    "                \n",
    "                count += 1  \n",
    "    \n",
    "    # Luego, realiza la visualización de las imágenes  \n",
    "    for source_filename, target_filename, class_name, value in images_to_show:  \n",
    "        img_source = plt.imread(source_filename)  \n",
    "        img_target = plt.imread(target_filename)  \n",
    "        \n",
    "        fig, axs = plt.subplots(1, 2, figsize=(7, 5))  \n",
    "        axs[0].imshow(img_source)  \n",
    "        axs[0].set_title(f\"{class_name}: \\n{source_filename.name}\", fontsize=8)  \n",
    "        axs[0].axis('off')  # Elimina los ejes para centrar la atención en la imagen  \n",
    "        \n",
    "        axs[1].imshow(img_target)  \n",
    "        axs[1].set_title(f\"{class_name}: \\n{target_filename.name}\", fontsize=8)  \n",
    "        axs[1].axis('off')  \n",
    "        plt.suptitle(f\"Similitud: {value:.4f}\")  \n",
    "        plt.subplots_adjust(wspace=0.3, hspace=0.3)  # Ajusta el espacio entre subtramas  \n",
    "        plt.show()  \n",
    "\n",
    "print(\"Muestras más similares entre las imágenes de la misma clase \\n\")  \n",
    "show_most_similar_using_C_all_classes(estimator, class_names_train, filenames_dict)"
   ]
  },
  {
   "cell_type": "markdown",
   "metadata": {},
   "source": [
    "# 2. Visualizar las muestras (par de imagenes) mas similares entre las clases pares"
   ]
  },
  {
   "cell_type": "code",
   "execution_count": null,
   "metadata": {},
   "outputs": [],
   "source": [
    "# Función para visualizar las imágenes más similares entre pares de clases usando la matriz P  \n",
    "\n",
    "def show_most_similar_between_class_pairs(estimator, class_names, filenames_dict):  \n",
    "    images_to_show = []  # Lista para almacenar las imágenes y sus detalles  \n",
    "\n",
    "    # Iterar sobre cada par de clases  \n",
    "    for i in range(len(class_names)):  \n",
    "        for j in range(i + 1, len(class_names)):  \n",
    "            class_i_name = class_names[i]  \n",
    "            class_j_name = class_names[j]  \n",
    "            print(f\"Pares de Clases: {class_i_name} y {class_j_name}\")  \n",
    "            \n",
    "            # Obtener la matriz de similitud para el par de clases  \n",
    "            P = estimator.P[(i, j)]  \n",
    "            \n",
    "            # Ordenar los índices según las similitudes (de mayor a menor)  \n",
    "            most_similar_indices = np.argsort(-P, axis=None)  \n",
    "            \n",
    "            shown_pairs = set()  # Para rastrear los pares de índices ya mostrados  \n",
    "            count = 0  \n",
    "            show_samples = 5  # Número de pares de muestras para visualizar la similitud  \n",
    "            \n",
    "            for idx in most_similar_indices:  \n",
    "                if count >= show_samples:  \n",
    "                    break  \n",
    "                \n",
    "                # Convertimos el índice plano a 2D  \n",
    "                idx_2d = np.unravel_index(idx, P.shape)  \n",
    "                \n",
    "                # Crear un par ordenado de índices para prevenir duplicados  \n",
    "                index_pair = (idx_2d[0], idx_2d[1])  # No ordenar aquí porque i y j ya son distintos en distintos pares  \n",
    "                \n",
    "                # Verificamos si el par ya fue mostrado  \n",
    "                if index_pair in shown_pairs:  \n",
    "                    continue  \n",
    "                \n",
    "                shown_pairs.add(index_pair)  \n",
    "                \n",
    "                # Obtener los índices de las muestras en el dataset  \n",
    "                source_idx = estimator.class_indices[i][idx_2d[0]]  \n",
    "                target_idx = estimator.class_indices[j][idx_2d[1]]  \n",
    "                \n",
    "                # Verificar que los índices estén dentro de los límites del dataset  \n",
    "                if source_idx < len(filenames_dict) and target_idx < len(filenames_dict):  \n",
    "                    source_filename = Path(filenames_dict[int(source_idx)])  \n",
    "                    target_filename = Path(filenames_dict[int(target_idx)])  \n",
    "                    \n",
    "                    value = P[idx_2d]  \n",
    "                    print(f\"\\t{source_filename.name} ({class_i_name}) vs {target_filename.name} ({class_j_name}), Similitud: {value:.4f}\")  \n",
    "                    \n",
    "                    # Agrega los detalles a la lista para visualización  \n",
    "                    images_to_show.append((source_filename, target_filename, class_i_name, class_j_name, value))  \n",
    "                    \n",
    "                    count += 1  \n",
    "    \n",
    "    # Luego, realiza la visualización de las imágenes  \n",
    "    for source_filename, target_filename, class_i_name, class_j_name, value in images_to_show:  \n",
    "        img_source = plt.imread(source_filename)  \n",
    "        img_target = plt.imread(target_filename)  \n",
    "        \n",
    "        fig, axs = plt.subplots(1, 2, figsize=(5, 3))  # Ajusta el tamaño de la figura  \n",
    "        axs[0].imshow(img_source)  \n",
    "        axs[0].set_title(f\"{class_i_name}: \\n{source_filename.name}\", fontsize=8)  # Reduce el tamaño de fuente del título  \n",
    "        axs[0].axis('off')  # Elimina los ejes para centrar la atención en la imagen  \n",
    "\n",
    "        axs[1].imshow(img_target)  \n",
    "        axs[1].set_title(f\"{class_j_name}: \\n{target_filename.name}\", fontsize=8)  \n",
    "        axs[1].axis('off')  \n",
    "\n",
    "        plt.suptitle(f\"Similitud: {value:.4f}\", fontsize=10)  # Ajusta el tamaño del título principal  \n",
    "        plt.subplots_adjust(wspace=0.3, hspace=0.3)  # Ajusta el espacio entre subtramas  \n",
    "        plt.show()  \n",
    "\n",
    "# Llama a la función para visualizar  \n",
    "print(\"Muestras más similares entre imágenes de clases pares (distintas clases) \\n\")  \n",
    "show_most_similar_between_class_pairs(estimator, class_names_train, filenames_dict)"
   ]
  },
  {
   "cell_type": "markdown",
   "metadata": {},
   "source": [
    "# 3. Visualizar las muestras (par de imagenes) mas similares entre todo el dataset"
   ]
  },
  {
   "cell_type": "code",
   "execution_count": null,
   "metadata": {},
   "outputs": [],
   "source": [
    "# Función para visualizar las imágenes más similares en todo el dataset usando la matriz M  \n",
    "\n",
    "def show_most_similar_across_dataset(estimator, class_names, filenames_dict):  \n",
    "    print(\"Muestras más similares en todo el dataset\")  \n",
    "    \n",
    "    # Obtener la matriz de similitud para todo el dataset  \n",
    "    M = estimator.M  \n",
    "    \n",
    "    # Ordenar los índices según las similitudes (de mayor a menor)  \n",
    "    most_similar_indices = np.argsort(-M, axis=None)  \n",
    "    \n",
    "    shown_pairs = set()  # Para rastrear los pares de índices ya mostrados  \n",
    "    count = 0  \n",
    "    show_samples = 20  # Número de pares de muestras para visualizar la similitud  \n",
    "    \n",
    "    images_to_show = []  # Lista para almacenar las imágenes y sus detalles  \n",
    "    \n",
    "    for idx in most_similar_indices:  \n",
    "        if count >= show_samples:  \n",
    "            break  \n",
    "        \n",
    "        # Convertimos el índice plano a 2D  \n",
    "        idx_2d = np.unravel_index(idx, M.shape)  \n",
    "        \n",
    "        # Saltar las comparaciones de una muestra consigo misma  \n",
    "        if idx_2d[0] == idx_2d[1]:  \n",
    "            continue  \n",
    "        \n",
    "        # Crear un par ordenado de índices para prevenir duplicados  \n",
    "        index_pair = tuple(sorted((idx_2d[0], idx_2d[1])))  \n",
    "        \n",
    "        # Verificamos si el par ya fue mostrado  \n",
    "        if index_pair in shown_pairs:  \n",
    "            continue  \n",
    "        \n",
    "        shown_pairs.add(index_pair)  \n",
    "        \n",
    "        source_idx, target_idx = index_pair  \n",
    "        \n",
    "        # Verificar que los índices estén dentro de los límites del dataset  \n",
    "        if source_idx < len(filenames_dict) and target_idx < len(filenames_dict):  \n",
    "            source_filename = Path(filenames_dict[int(source_idx)])  \n",
    "            target_filename = Path(filenames_dict[int(target_idx)])  \n",
    "            \n",
    "            # Determinar las clases de cada archivo  \n",
    "            source_class = None  \n",
    "            target_class = None  \n",
    "            for class_intent, indices in estimator.class_indices.items():  \n",
    "                if source_idx in indices:  \n",
    "                    source_class = class_names[class_intent]  \n",
    "                if target_idx in indices:  \n",
    "                    target_class = class_names[class_intent]  \n",
    "            \n",
    "            # Mostrar las comparaciones  \n",
    "            value = M[idx_2d]  \n",
    "            print(f\"\\t{source_filename.name} ({source_class}) vs {target_filename.name} ({target_class}), Similitud: {value:.4f}\")  \n",
    "            \n",
    "            # Agrega los detalles a la lista para visualización  \n",
    "            images_to_show.append((source_filename, target_filename, source_class, target_class, value))  \n",
    "            \n",
    "            # Incrementar el contador ya que se ha mostrado un nuevo par  \n",
    "            count += 1  \n",
    "    \n",
    "    # Luego, realiza la visualización de las imágenes  \n",
    "    for source_filename, target_filename, source_class, target_class, value in images_to_show:  \n",
    "        img_source = plt.imread(source_filename)  \n",
    "        img_target = plt.imread(target_filename)  \n",
    "        \n",
    "        fig, axs = plt.subplots(1, 2, figsize=(10, 5))  \n",
    "        axs[0].imshow(img_source)  \n",
    "        axs[0].set_title(f\"{source_class}: {source_filename.name}\")  \n",
    "        axs[0].axis('off')  # Ocultar los ejes  \n",
    "        axs[1].imshow(img_target)  \n",
    "        axs[1].set_title(f\"{target_class}: {target_filename.name}\")  \n",
    "        axs[1].axis('off')  # Ocultar los ejes  \n",
    "        plt.suptitle(f\"Similitud: {value:.4f}\")  \n",
    "        plt.show()  \n",
    "\n",
    "# Llama a la función para visualizar  \n",
    "show_most_similar_across_dataset(estimator, class_names_train, filenames_dict)"
   ]
  }
 ],
 "metadata": {
  "kernelspec": {
   "display_name": "Python 3",
   "language": "python",
   "name": "python3"
  },
  "language_info": {
   "codemirror_mode": {
    "name": "ipython",
    "version": 3
   },
   "file_extension": ".py",
   "mimetype": "text/x-python",
   "name": "python",
   "nbconvert_exporter": "python",
   "pygments_lexer": "ipython3",
   "version": "3.12.1"
  }
 },
 "nbformat": 4,
 "nbformat_minor": 2
}
