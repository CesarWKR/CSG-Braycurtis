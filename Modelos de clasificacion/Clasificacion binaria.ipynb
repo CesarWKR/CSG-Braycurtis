{
 "cells": [
  {
   "cell_type": "code",
   "execution_count": 64,
   "metadata": {},
   "outputs": [],
   "source": [
    "import torch  \n",
    "from torch.utils.data import Dataset, DataLoader  \n",
    "import torchvision.transforms as transforms  \n",
    "from torchvision.datasets import ImageFolder  \n",
    "from PIL import Image  \n",
    "import pathlib  \n",
    "import cupy as cp \n",
    "from torchvision.datasets import ImageFolder\n",
    "from torchvision import datasets\n",
    "import torch  \n",
    "import torch.nn as nn  \n",
    "import torch.optim as optim  \n",
    "from PIL import Image"
   ]
  },
  {
   "cell_type": "code",
   "execution_count": 65,
   "metadata": {},
   "outputs": [
    {
     "name": "stdout",
     "output_type": "stream",
     "text": [
      "GPU disponible: True\n",
      "Nombre de la GPU: NVIDIA GeForce RTX 4060\n"
     ]
    }
   ],
   "source": [
    "# Verificar la disponibilidad de la GPU  \n",
    "device = torch.device('cuda' if torch.cuda.is_available() else 'cpu') \n",
    "print(\"GPU disponible:\", torch.cuda.is_available())\n",
    "print(\"Nombre de la GPU:\", torch.cuda.get_device_name() if torch.cuda.is_available() else \"N/A\")\n"
   ]
  },
  {
   "cell_type": "code",
   "execution_count": 66,
   "metadata": {},
   "outputs": [
    {
     "name": "stdout",
     "output_type": "stream",
     "text": [
      "Total imágenes dataset: 10000\n",
      "Total imágenes originales: 5000\n",
      "Total imágenes corruptas: 5000\n",
      "Número de clases: 2\n",
      "Los nombres de las clases son: ['cat', 'cat_c_defocus_blur']\n"
     ]
    }
   ],
   "source": [
    "# Definir directorios\n",
    "directorio_dataset = '../Datasets/CIFAR-10 dos clases'\n",
    "imagenes_originales = '../Datasets/CIFAR-10 dos clases/cat'\n",
    "imagenes_corruptas = '../Datasets/CIFAR-10 dos clases/cat_c_defocus_blur'\n",
    "\n",
    "directorio_dataset = pathlib.Path(directorio_dataset)\n",
    "imagenes_originales = pathlib.Path(imagenes_originales)\n",
    "imagenes_corruptas = pathlib.Path(imagenes_corruptas)\n",
    "\n",
    "# Images dimensions\n",
    "img_height = 32\n",
    "img_width = 32\n",
    "channels = 3\n",
    "batch_size = 32\n",
    "\n",
    "# Transformaciones para preprocesamiento de datos\n",
    "transform = transforms.Compose([\n",
    "    transforms.Resize((img_height, img_width)),  # Ajustar tamaño a 32x32\n",
    "    transforms.ToTensor(),  # Convertir a tensor\n",
    "    transforms.Normalize((0.5, 0.5, 0.5), (0.5, 0.5, 0.5))  # Normalizar\n",
    "])\n",
    "\n",
    "class CustomImageDataset(Dataset):\n",
    "    def __init__(self, directory, transform=None):\n",
    "        self.directory = pathlib.Path(directory)\n",
    "        self.transform = transform\n",
    "        self.images = list(self.directory.glob('*.png'))\n",
    "\n",
    "    def __len__(self):  \n",
    "        return len(self.images)  \n",
    "\n",
    "    def __getitem__(self, idx):  \n",
    "        img_path = self.images[idx]  \n",
    "        image = Image.open(img_path).convert('RGB')  \n",
    "        if self.transform:  \n",
    "            image = self.transform(image)  \n",
    "        return image\n",
    "\n",
    "# Crear datasets personalizados\n",
    "dataset_completo = datasets.ImageFolder(root=str(directorio_dataset), transform=transform)\n",
    "dataset_originales = CustomImageDataset(imagenes_originales, transform=transform)\n",
    "dataset_corruptas = CustomImageDataset(imagenes_corruptas, transform=transform)\n",
    "\n",
    "# Calcular totales\n",
    "total_dataset = len(list(directorio_dataset.glob('*/*.png')))\n",
    "total_originales = len(dataset_originales)\n",
    "total_corruptas = len(dataset_corruptas)\n",
    "\n",
    "# Crear el DataLoader para iterar sobre los datos en lotes\n",
    "dataloader_completo = DataLoader(dataset_completo, batch_size=batch_size, shuffle=False, num_workers=0)\n",
    "dataloader_originales = DataLoader(dataset_originales, batch_size=batch_size, shuffle=False)\n",
    "dataloader_corruptas = DataLoader(dataset_corruptas, batch_size=batch_size, shuffle=False)\n",
    "\n",
    "print(f\"Total imágenes dataset: {total_dataset}\")  \n",
    "print(f\"Total imágenes originales: {total_originales}\")  \n",
    "print(f\"Total imágenes corruptas: {total_corruptas}\")\n",
    "\n",
    "# Get the class names\n",
    "class_names = dataset_completo.classes\n",
    "num_classes = len(class_names)\n",
    "\n",
    "print(f\"Número de clases: {num_classes}\")\n",
    "print(f\"Los nombres de las clases son: {class_names}\")\n"
   ]
  },
  {
   "cell_type": "code",
   "execution_count": 67,
   "metadata": {},
   "outputs": [],
   "source": [
    "def get_transform(channels):   # Aqui define los canales de entrada que se aplicaran al modelo\n",
    "    if channels == 3:\n",
    "        # Definir transformaciones para el conjunto de datos en escala a color\n",
    "        transform = transforms.Compose([\n",
    "            transforms.Resize((img_height, img_width)),  # Ajustar tamaño\n",
    "            transforms.ToTensor(),  # Convertir a tensor\n",
    "            transforms.Normalize((0.5,), (0.5,))  # Normalizar\n",
    "        ])\n",
    "    elif channels == 1:\n",
    "        # Definir transformaciones para el conjunto de datos en escala de grises\n",
    "        transform = transforms.Compose([\n",
    "            transforms.Grayscale(),  # Convertir a escala de grises\n",
    "            transforms.Resize((img_height, img_width)),  # Ajustar tamaño\n",
    "            transforms.ToTensor(),  # Convertir a tensor\n",
    "            transforms.Normalize((0.5,), (0.5,))  # Normalizar\n",
    "        ])\n",
    "    else: \n",
    "        print(\"El valor elegido no está dentro del rango, por favor elija nuevamente\")\n",
    "        return None  # Devolver None en caso de elección inválida\n",
    "    return transform"
   ]
  },
  {
   "cell_type": "code",
   "execution_count": 68,
   "metadata": {},
   "outputs": [],
   "source": [
    "# Obtener las transformaciones según la elección  \n",
    "transform = get_transform(channels)  \n",
    "\n",
    "# Crear el dataset completo con las transformaciones aplicadas  \n",
    "if transform is not None:  \n",
    "    train_dataset = datasets.ImageFolder(root=directorio_dataset, transform=transform)  # En train dataset se toma el dataset completo para entrenarlo\n",
    "else:  \n",
    "    print(\"No se puede crear el dataset debido a una elección inválida.\")  \n",
    "\n",
    "\n",
    "# Crear el DataLoader para iterar sobre el dataset completo  \n",
    "train_loader = DataLoader(train_dataset, batch_size=batch_size, shuffle=True, num_workers=0) "
   ]
  },
  {
   "cell_type": "code",
   "execution_count": 69,
   "metadata": {},
   "outputs": [
    {
     "name": "stdout",
     "output_type": "stream",
     "text": [
      "Epoch [1/10], Loss: 0.5520, Accuracy: 72.52%\n",
      "Epoch [2/10], Loss: 0.4387, Accuracy: 80.24%\n",
      "Epoch [3/10], Loss: 0.3973, Accuracy: 82.61%\n",
      "Epoch [4/10], Loss: 0.3667, Accuracy: 84.45%\n",
      "Epoch [5/10], Loss: 0.3301, Accuracy: 85.88%\n",
      "Epoch [6/10], Loss: 0.2946, Accuracy: 87.40%\n",
      "Epoch [7/10], Loss: 0.2670, Accuracy: 88.32%\n",
      "Epoch [8/10], Loss: 0.2407, Accuracy: 89.74%\n",
      "Epoch [9/10], Loss: 0.2098, Accuracy: 91.48%\n",
      "Epoch [10/10], Loss: 0.1910, Accuracy: 91.82%\n",
      "Entrenamiento completado\n"
     ]
    }
   ],
   "source": [
    "\n",
    "# Definir el modelo de clasificación multiclase  \n",
    "class MulticlassCNN(nn.Module):  \n",
    "    def __init__(self, num_classes=2):  \n",
    "        super(MulticlassCNN, self).__init__()  \n",
    "        self.conv1 = nn.Conv2d(channels, 16, kernel_size=3, stride=1, padding=1)  \n",
    "        self.conv2 = nn.Conv2d(16, 32, kernel_size=3, stride=1, padding=1)  \n",
    "        self.pool = nn.MaxPool2d(kernel_size=2, stride=2, padding=0)  \n",
    "        self.fc1 = nn.Linear(32 * 8 * 8, 128)  \n",
    "        self.fc2 = nn.Linear(128, num_classes)  \n",
    "        self.relu = nn.ReLU()  \n",
    "\n",
    "    def forward(self, x):  \n",
    "        x = self.pool(self.relu(self.conv1(x)))  \n",
    "        x = self.pool(self.relu(self.conv2(x)))  \n",
    "        x = x.view(-1, 32 * 8 * 8)  \n",
    "        x = self.relu(self.fc1(x))  \n",
    "        x = self.fc2(x)  \n",
    "        return x  \n",
    "\n",
    "# Instanciar el modelo  \n",
    "model = MulticlassCNN(num_classes=num_classes).to(device)  \n",
    "\n",
    "\n",
    "# Definir la función de pérdida y el optimizador  \n",
    "criterion = nn.CrossEntropyLoss()  \n",
    "optimizer = optim.Adam(model.parameters(), lr=0.001)  \n",
    "\n",
    "\n",
    "# Ejemplo de bucle de entrenamiento  \n",
    "num_epochs = 10  \n",
    "for epoch in range(num_epochs):  \n",
    "    model.train()  # Asegurarse de que el modelo está en modo de entrenamiento  \n",
    "\n",
    "    running_loss = 0.0  \n",
    "    correct = 0  \n",
    "    total = 0  \n",
    "\n",
    "    for images, labels in train_loader:  \n",
    "        images, labels = images.to(device), labels.to(device)  \n",
    "\n",
    "        # Adelante  \n",
    "        outputs = model(images)  \n",
    "        loss = criterion(outputs, labels)  \n",
    "\n",
    "        # Atrás y optimización  \n",
    "        optimizer.zero_grad()  \n",
    "        loss.backward()  \n",
    "        optimizer.step()  \n",
    "\n",
    "        # Actualizar estadísticas  \n",
    "        running_loss += loss.item()  \n",
    "\n",
    "        # Calcular precisión  \n",
    "        _, predicted = torch.max(outputs, 1)  \n",
    "        total += labels.size(0)  \n",
    "        correct += (predicted == labels).sum().item()  \n",
    "\n",
    "    epoch_loss = running_loss / len(train_loader)  \n",
    "    accuracy = 100 * correct / total  \n",
    "\n",
    "    print(f\"Epoch [{epoch+1}/{num_epochs}], Loss: {epoch_loss:.4f}, Accuracy: {accuracy:.2f}%\")  \n",
    "\n",
    "print(\"Entrenamiento completado\")"
   ]
  },
  {
   "cell_type": "code",
   "execution_count": 75,
   "metadata": {},
   "outputs": [
    {
     "name": "stdout",
     "output_type": "stream",
     "text": [
      "Total imágenes test: 20\n",
      "Total imágenes originales_test: 10\n",
      "Total imágenes corruptas_test: 10\n",
      "Número de clases: 2\n",
      "Los nombres de las clases son: ['cat', 'cat_c_defocus_blur']\n"
     ]
    }
   ],
   "source": [
    "\n",
    "# Definir directorio para test\n",
    "directorio_test = '../Datasets/Muestras mas similares - Dos clases'\n",
    "originales_test = '../Datasets/Muestras mas similares - Dos clases/cat'\n",
    "corruptas_test = '../Datasets/Muestras mas similares - Dos clases/cat_c_defocus_blur'\n",
    "\n",
    "directorio_test = pathlib.Path(directorio_test)\n",
    "originales_test = pathlib.Path(originales_test)\n",
    "corruptas_test = pathlib.Path(corruptas_test)\n",
    "\n",
    "# Dimensions of images\n",
    "img_height = 32\n",
    "img_width = 32\n",
    "batch_size = 32\n",
    "\n",
    "# Definir transformaciones  \n",
    "transform = transforms.Compose([  \n",
    "    transforms.Resize((img_height, img_width)),  # Cambia al tamaño esperado por tu modelo  \n",
    "    transforms.ToTensor(),  # Convierte las imágenes a tensores  \n",
    "    transforms.Normalize((0.5, 0.5, 0.5), (0.5, 0.5, 0.5))  # Normaliza las imágenes  \n",
    "])  \n",
    "\n",
    "# Cargar el conjunto de datos de prueba  \n",
    "test_dataset = datasets.ImageFolder(root=str(directorio_test), transform=transform)  \n",
    "test_loader = DataLoader(test_dataset, batch_size=batch_size, shuffle=False)  \n",
    "\n",
    "# Calcular totales\n",
    "total_test = len(list(directorio_test.glob('*/*.png')))\n",
    "num_originales = len(list(originales_test.glob('*.png')))\n",
    "num_corruptas = len(list(corruptas_test.glob('*.png')))\n",
    "\n",
    "print(f\"Total imágenes test: {total_test}\")  \n",
    "print(f\"Total imágenes originales_test: {num_originales}\")  \n",
    "print(f\"Total imágenes corruptas_test: {num_corruptas}\")\n",
    "\n",
    "# Obtener los nombres de las clases\n",
    "class_names_test = test_dataset.classes\n",
    "num_classes_test = len(class_names)\n",
    "\n",
    "print(f\"Número de clases: {num_classes_test}\")\n",
    "print(f\"Los nombres de las clases son: {class_names_test}\")"
   ]
  },
  {
   "cell_type": "code",
   "execution_count": 71,
   "metadata": {},
   "outputs": [
    {
     "name": "stdout",
     "output_type": "stream",
     "text": [
      "Total imágenes test: 140\n",
      "Total imágenes perros_test: 70\n",
      "Total imágenes gatos_test: 70\n",
      "Número de clases test: 2\n",
      "Los nombres de las clases test son: ['cats_test', 'dogs_test']\n"
     ]
    }
   ],
   "source": [
    "\n",
    "# # Definir directorio para test\n",
    "# directorio_test = '../Datasets/Perros y Gatos/test'\n",
    "# perros_test = '../Datasets/Perros y gatos/test/dogs_test'\n",
    "# gatos_test = '../Datasets/Perros y gatos/test/cats_test'\n",
    "\n",
    "# directorio_test = pathlib.Path(directorio_test)\n",
    "# perros_test = pathlib.Path(perros_test)\n",
    "# gatos_test = pathlib.Path(gatos_test)\n",
    "\n",
    "# # Dimensions of images\n",
    "# img_height = 32\n",
    "# img_width = 32\n",
    "# batch_size = 32\n",
    "\n",
    "# # Definir transformaciones  \n",
    "# transform = transforms.Compose([  \n",
    "#     transforms.Resize((img_height, img_width)),  # Cambia al tamaño esperado por tu modelo  \n",
    "#     transforms.ToTensor(),  # Convierte las imágenes a tensores  \n",
    "#     transforms.Normalize((0.5, 0.5, 0.5), (0.5, 0.5, 0.5))  # Normaliza las imágenes  \n",
    "# ])  \n",
    "\n",
    "# # Cargar el conjunto de datos de prueba  \n",
    "# test_dataset = datasets.ImageFolder(root=str(directorio_test), transform=transform)  \n",
    "# test_loader = DataLoader(test_dataset, batch_size=batch_size, shuffle=False)  \n",
    "\n",
    "# # Calcular totales\n",
    "# total_test = len(list(directorio_test.glob('*/*.jpg')))\n",
    "# num_perros = len(list(perros_test.glob('*.jpg')))\n",
    "# num_gatos = len(list(gatos_test.glob('*.jpg')))\n",
    "\n",
    "# print(f\"Total imágenes test: {total_test}\")  \n",
    "# print(f\"Total imágenes perros_test: {num_perros}\")  \n",
    "# print(f\"Total imágenes gatos_test: {num_gatos}\")\n",
    "\n",
    "# # Obtener los nombres de las clases\n",
    "# class_names_test = test_dataset.classes\n",
    "# num_classes_test = len(class_names)\n",
    "\n",
    "# print(f\"Número de clases test: {num_classes_test}\")\n",
    "# print(f\"Los nombres de las clases test son: {class_names_test}\")"
   ]
  },
  {
   "cell_type": "code",
   "execution_count": 76,
   "metadata": {},
   "outputs": [],
   "source": [
    "# Obtener predicciones\n",
    "\n",
    "from sklearn.metrics import confusion_matrix, precision_recall_fscore_support  \n",
    "import numpy as np\n",
    "\n",
    "# Evaluación del modelo  \n",
    "model.eval()  \n",
    "\n",
    "all_labels = []  \n",
    "all_predictions = []  \n",
    "\n",
    "with torch.no_grad():  \n",
    "    for images, labels in test_loader:  \n",
    "        images, labels = images.to(device), labels.to(device)  \n",
    "        outputs = model(images)  \n",
    "        \n",
    "        _, predicted = torch.max(outputs, 1)  \n",
    "        all_labels.extend(labels.cpu().numpy())  \n",
    "        all_predictions.extend(predicted.cpu().numpy())  \n",
    "\n",
    "# Convertir listas a arrays para usar en scikit-learn  \n",
    "all_labels = np.array(all_labels)  \n",
    "all_predictions = np.array(all_predictions)  "
   ]
  },
  {
   "cell_type": "code",
   "execution_count": 77,
   "metadata": {},
   "outputs": [
    {
     "data": {
      "image/png": "[encoded data removed]",
      "text/plain": [
       "<Figure size 800x600 with 2 Axes>"
      ]
     },
     "metadata": {},
     "output_type": "display_data"
    }
   ],
   "source": [
    "# Matriz de confusion\n",
    "\n",
    "import matplotlib.pyplot as plt  \n",
    "import seaborn as sns  \n",
    "from sklearn.metrics import confusion_matrix  \n",
    "\n",
    "# Calcular la matriz de confusión  \n",
    "cm = confusion_matrix(all_labels, all_predictions)  \n",
    "\n",
    "# Visualizar la matriz de confusión  \n",
    "plt.figure(figsize=(8, 6))  \n",
    "sns.heatmap(cm, annot=True, fmt='d', cmap='Blues', xticklabels=class_names_test, yticklabels=class_names_test)  \n",
    "plt.xlabel('Predicted')  \n",
    "plt.ylabel('True')  \n",
    "plt.title('Confusion Matrix')  \n",
    "plt.show()  "
   ]
  },
  {
   "cell_type": "code",
   "execution_count": 78,
   "metadata": {},
   "outputs": [
    {
     "name": "stdout",
     "output_type": "stream",
     "text": [
      "Class: cat - Precision: 0.90, Recall: 0.90, F1 Score: 0.90\n",
      "Class: cat_c_defocus_blur - Precision: 0.90, Recall: 0.90, F1 Score: 0.90\n",
      "Weighted Average Precision: 0.90\n",
      "Weighted Average Recall: 0.90\n",
      "Weighted Average F1 Score: 0.90\n"
     ]
    }
   ],
   "source": [
    "# Presicion, recall y F1 score\n",
    "\n",
    "from sklearn.metrics import precision_recall_fscore_support  \n",
    "\n",
    "# Calcular precisión, recall, F1-score  \n",
    "precision, recall, f1_score, _ = precision_recall_fscore_support(all_labels, all_predictions, average=None)  \n",
    "\n",
    "# Mostrar resultados  \n",
    "for class_name, prec, rec, f1 in zip(class_names_test, precision, recall, f1_score):  \n",
    "    print(f\"Class: {class_name} - Precision: {prec:.2f}, Recall: {rec:.2f}, F1 Score: {f1:.2f}\")  \n",
    "\n",
    "# Para obtener los promedios:  \n",
    "average_precision, average_recall, average_f1_score, _ = precision_recall_fscore_support(all_labels, all_predictions, average='weighted')  \n",
    "print(f\"Weighted Average Precision: {average_precision:.2f}\")  \n",
    "print(f\"Weighted Average Recall: {average_recall:.2f}\")  \n",
    "print(f\"Weighted Average F1 Score: {average_f1_score:.2f}\") "
   ]
  },
  {
   "cell_type": "code",
   "execution_count": null,
   "metadata": {},
   "outputs": [],
   "source": [
    "for i, (image, label) in enumerate(test_loader):  \n",
    "    image, label = image.to(device), label.to(device)  \n",
    "    output = model(image)  \n",
    "    _, predicted = torch.max(output, 1)  \n",
    "    # Imprime algunas predicciones y etiquetas reales  \n",
    "    if i < 5:  # Limita a las primeras 5 iteraciones   \n",
    "        print(f\"Etiqueta Real: {label.cpu().numpy()}, Predicción: {predicted.cpu().numpy()}\") "
   ]
  }
 ],
 "metadata": {
  "kernelspec": {
   "display_name": "Python 3",
   "language": "python",
   "name": "python3"
  },
  "language_info": {
   "codemirror_mode": {
    "name": "ipython",
    "version": 3
   },
   "file_extension": ".py",
   "mimetype": "text/x-python",
   "name": "python",
   "nbconvert_exporter": "python",
   "pygments_lexer": "ipython3",
   "version": "3.12.1"
  }
 },
 "nbformat": 4,
 "nbformat_minor": 2
}
