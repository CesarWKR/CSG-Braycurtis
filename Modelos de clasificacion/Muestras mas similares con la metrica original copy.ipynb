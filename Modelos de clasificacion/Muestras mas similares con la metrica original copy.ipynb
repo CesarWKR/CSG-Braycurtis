{
  "cells": [
    {
      "cell_type": "markdown",
      "metadata": {
        "id": "bpkH4_UIzT5Q"
      },
      "source": [
        "# Librerias"
      ]
    },
    {
      "cell_type": "code",
      "execution_count": 1,
      "metadata": {},
      "outputs": [
        {
          "name": "stdout",
          "output_type": "stream",
          "text": [
            "WARNING:tensorflow:From C:\\Users\\Cesar\\AppData\\Local\\Temp\\ipykernel_2128\\3426895207.py:13: The name tf.logging.set_verbosity is deprecated. Please use tf.compat.v1.logging.set_verbosity instead.\n",
            "\n"
          ]
        }
      ],
      "source": [
        "# Carga de librerías\n",
        "import numpy as np\n",
        "import tensorflow as tf\n",
        "import PIL\n",
        "import PIL.Image\n",
        "import pathlib\n",
        "import scipy as sp\n",
        "import seaborn as sns\n",
        "from itertools import product\n",
        "import matplotlib.pyplot as plt\n",
        "import pandas as pd\n",
        "import tensorflow as tf\n",
        "tf.compat.v1.logging.set_verbosity(tf.compat.v1.logging.ERROR)\n",
        "import os\n",
        "import pathlib\n",
        "from pathlib import Path  "
      ]
    },
    {
      "cell_type": "code",
      "execution_count": 2,
      "metadata": {},
      "outputs": [],
      "source": [
        "from numpy.linalg import LinAlgError\n",
        "from scipy.sparse.csgraph import laplacian\n",
        "# from spectral_metric.lib import find_samples, compute_expectation_with_monter_carlo \n",
        "from spectral_metric.estimator import CumulativeGradientEstimator\n",
        "from spectral_metric.visualize import make_graph"
      ]
    },
    {
      "cell_type": "markdown",
      "metadata": {
        "id": "weZmSnbPzjth"
      },
      "source": [
        "# DATASET DESDE DIRECTORIO "
      ]
    },
    {
      "cell_type": "code",
      "execution_count": 3,
      "metadata": {
        "id": "XvM5Czeg24r3"
      },
      "outputs": [
        {
          "name": "stdout",
          "output_type": "stream",
          "text": [
            "Total imagenes dataset: 10000\n",
            "Total imagenes originales: 5000\n",
            "Total imagenes corruptas: 5000\n"
          ]
        }
      ],
      "source": [
        "directorio_dataset = ('../Datasets/CIFAR-10 dos clases')\n",
        "imagenes_originales = ('../Datasets/CIFAR-10 dos clases/cat')\n",
        "imagenes_corruptas = ('../Datasets/CIFAR-10 dos clases/cat_c_defocus_blur')\n",
        "\n",
        "directorio_dataset = pathlib.Path(directorio_dataset)\n",
        "imagenes_originales = pathlib.Path(imagenes_originales)\n",
        "imagenes_corruptas = pathlib.Path(imagenes_corruptas)\n",
        "\n",
        "total_dataset = len(list(directorio_dataset.glob('*/*.png')))  # Cuenta la cantidad de imagenes del dataset (Aqui busca en las subcarpetas del directorio del dataset)\n",
        "total_originales = len(list(imagenes_originales.glob('*.png')))  # Cuenta la cantidad de imagenes de la clase original (Aqui busca directamente en la carpeta cat)\n",
        "total_corruptas = len(list(imagenes_corruptas.glob('*.png')))  # Cuenta la cantidad de imagenes de la clase corrupta (Aqui busca directamente en la carpeta cat_c_defocus_blur)\n",
        "\n",
        "print(f\"Total imagenes dataset: {total_dataset}\")\n",
        "print(f\"Total imagenes originales: {total_originales}\")\n",
        "print(f\"Total imagenes corruptas: {total_corruptas}\")"
      ]
    },
    {
      "cell_type": "code",
      "execution_count": 4,
      "metadata": {
        "id": "AWB5HosL4AYY"
      },
      "outputs": [],
      "source": [
        "# Dimensiones de imagen y tamaño de batch\n",
        "img_height = 32\n",
        "img_width = 32\n",
        "#batch_size = len(list(data_dir.glob('*/*.png'))) # leer todas las imágenes al tiempo\n",
        "batch_size = total_dataset"
      ]
    },
    {
      "cell_type": "code",
      "execution_count": 5,
      "metadata": {
        "colab": {
          "base_uri": "https://localhost:8080/"
        },
        "id": "Oy85tXdk4AbM",
        "outputId": "dd5fa4de-fa6a-43c9-c14e-c45411c18fb9"
      },
      "outputs": [
        {
          "name": "stdout",
          "output_type": "stream",
          "text": [
            "Found 10000 files belonging to 2 classes.\n"
          ]
        }
      ],
      "source": [
        "\n",
        "import tensorflow as tf\n",
        "import pathlib\n",
        "\n",
        "# Data splitting (entrenamiento y validación)\n",
        "all_images_in_dataset = tf.keras.preprocessing.image_dataset_from_directory(\n",
        "  directorio_dataset,\n",
        "  #validation_split=0.2,\n",
        "  color_mode='rgb',\n",
        "  label_mode='int',\n",
        "  #subset=\"training\",\n",
        "  #seed=123,\n",
        "  shuffle=False,\n",
        "  image_size=(img_height, img_width),\n",
        "  batch_size=batch_size)"
      ]
    },
    {
      "cell_type": "code",
      "execution_count": 6,
      "metadata": {},
      "outputs": [
        {
          "name": "stdout",
          "output_type": "stream",
          "text": [
            "Número de clases: 2\n",
            "Los nombres de las clases son: ['cat', 'cat_c_defocus_blur']\n"
          ]
        }
      ],
      "source": [
        "class_names = all_images_in_dataset.class_names\n",
        "num_classes = len(class_names)  # get the number of the classes\n",
        "print(f\"Número de clases: {num_classes}\")\n",
        "print(f\"Los nombres de las clases son: {class_names}\")"
      ]
    },
    {
      "cell_type": "code",
      "execution_count": 7,
      "metadata": {
        "colab": {
          "base_uri": "https://localhost:8080/"
        },
        "id": "0IUOsmtJ4Ade",
        "outputId": "9343f4c7-dd2d-451a-fbfe-4842dd642897"
      },
      "outputs": [
        {
          "name": "stdout",
          "output_type": "stream",
          "text": [
            "(10000, 32, 32, 3)\n"
          ]
        }
      ],
      "source": [
        "for images, labels0 in all_images_in_dataset.take(1):  # only take first element of dataset\n",
        "    numpy_all_images = images.numpy()  # convertir el tensor de imágenes en un arreglo de numpy y ahora contiene las imágenes del conjunto de datos en formato de numpy.\n",
        "    numpy_all_labels = labels0.numpy()  # convierte el tensor de etiquetas en un arreglo de numpy y ahora contiene las etiquetas del conjunto de datos en formato de numpy\n",
        "\n",
        "numpy_all_images /= 255.0  # Scale the features to the [0, 1] range\n",
        "print(numpy_all_images.shape)"
      ]
    },
    {
      "cell_type": "code",
      "execution_count": 8,
      "metadata": {},
      "outputs": [],
      "source": [
        "# Obtener todos los nombres de archivo en el dataset\n",
        "filenames = [str(f) for f in directorio_dataset.glob('*/*.png')]\n",
        "\n",
        "# Crear un mapeo de índices a rutas completas de archivo  \n",
        "filenames_dict = {i: str(f) for i, f in enumerate(directorio_dataset.glob('*/*.png'))} "
      ]
    },
    {
      "cell_type": "code",
      "execution_count": 12,
      "metadata": {},
      "outputs": [],
      "source": [
        "images_cat = numpy_all_images[numpy_all_labels == 0][:5000]  # Clase 0: \"cat\"\n",
        "images_cat_c_defocus_blur = numpy_all_images[numpy_all_labels == 1][:5000]  # Clase 1: \"cat_c_defocus_blur\"\n",
        "images_cat = images_cat.astype(np.float64)\n",
        "images_cat_c_defocus_blur = images_cat_c_defocus_blur.astype(np.float64)\n",
        "\n",
        "# Inicializamos una lista para almacenar los resultados del CSG\n",
        "csg_results = []"
      ]
    },
    {
      "cell_type": "code",
      "execution_count": 13,
      "metadata": {},
      "outputs": [],
      "source": [
        "# Iterar sobre cada muestra de la clase \"cat_c_defocus_blur\"\n",
        "for i in range(images_cat_c_defocus_blur.shape[0]):\n",
        "    # Seleccionar una única muestra de la clase \"cat_c_defocus_blur\"\n",
        "    single_image_cat_c_defocus_blur = images_cat_c_defocus_blur[i:i+1]\n",
        "\n",
        "    # Combinar todas las muestras de \"cat\" con una muestra de \"cat_c_defocus_blur\"\n",
        "    combined_images = np.concatenate((images_cat, single_image_cat_c_defocus_blur))\n",
        "\n",
        "    # Crear etiquetas correspondientes (5000 para \"cat\" y 1 para \"cat_c_defocus_blur\")\n",
        "    labels_cat = np.zeros(images_cat.shape[0], dtype=int)\n",
        "    labels_single_cat_c_defocus_blur = np.array([1], dtype=int)\n",
        "    combined_labels = np.concatenate((labels_cat, labels_single_cat_c_defocus_blur))\n",
        "\n",
        "    # Asegurarse de que los datos estén en el formato correcto para el estimador\n",
        "    fully_dataset = combined_images.reshape((combined_images.shape[0], combined_images.shape[1]*combined_images.shape[2]*combined_images.shape[3]))\n",
        "    fully_labels = combined_labels\n",
        "\n",
        "    # Usar el estimador con los datos combinados de las dos clases\n",
        "    estimator = CumulativeGradientEstimator(M_sample=1000, k_nearest=10)\n",
        "    estimator.fit(data=fully_dataset, target=fully_labels)\n",
        "\n",
        "    # Guardar el resultado del CSG de esta comparación\n",
        "    csg = estimator.csg\n",
        "    csg_results.append(csg)\n",
        "\n",
        "\n",
        "\n"
      ]
    },
    {
      "cell_type": "code",
      "execution_count": 15,
      "metadata": {},
      "outputs": [
        {
          "name": "stdout",
          "output_type": "stream",
          "text": [
            "\n",
            "Los 10 valores más altos de CSG y sus respectivos índices:\n",
            "Índice: 0, Valor CSG: 1.0, Nombre del archivo: ..\\Datasets\\CIFAR-10 dos clases\\cat_c_defocus_blur\\00000.png\n",
            "Índice: 1, Valor CSG: 1.0, Nombre del archivo: ..\\Datasets\\CIFAR-10 dos clases\\cat_c_defocus_blur\\00008.png\n",
            "Índice: 5, Valor CSG: 1.0, Nombre del archivo: ..\\Datasets\\CIFAR-10 dos clases\\cat_c_defocus_blur\\00063.png\n",
            "Índice: 6, Valor CSG: 1.0, Nombre del archivo: ..\\Datasets\\CIFAR-10 dos clases\\cat_c_defocus_blur\\00068.png\n",
            "Índice: 7, Valor CSG: 1.0, Nombre del archivo: ..\\Datasets\\CIFAR-10 dos clases\\cat_c_defocus_blur\\00077.png\n",
            "Índice: 10, Valor CSG: 1.0, Nombre del archivo: ..\\Datasets\\CIFAR-10 dos clases\\cat_c_defocus_blur\\00103.png\n",
            "Índice: 11, Valor CSG: 1.0, Nombre del archivo: ..\\Datasets\\CIFAR-10 dos clases\\cat_c_defocus_blur\\00106.png\n",
            "Índice: 12, Valor CSG: 1.0, Nombre del archivo: ..\\Datasets\\CIFAR-10 dos clases\\cat_c_defocus_blur\\00115.png\n",
            "Índice: 14, Valor CSG: 1.0, Nombre del archivo: ..\\Datasets\\CIFAR-10 dos clases\\cat_c_defocus_blur\\00127.png\n",
            "Índice: 15, Valor CSG: 1.0, Nombre del archivo: ..\\Datasets\\CIFAR-10 dos clases\\cat_c_defocus_blur\\00143.png\n"
          ]
        }
      ],
      "source": [
        "# Asociar índices con valores de CSG\n",
        "csg_results_with_index = [(csg[0], i) for i, csg in enumerate(csg_results)]\n",
        "\n",
        "# Ordenar los resultados de CSG por valor en orden descendente y seleccionar los 10 más altos\n",
        "csg_results_sorted = sorted(csg_results_with_index, key=lambda x: x[0], reverse=True)[:10]\n",
        "\n",
        "# Imprimir los 10 valores más altos junto con el índice de la imagen y el nombre del archivo\n",
        "print(\"\\nLos 10 valores más altos de CSG y sus respectivos índices:\")\n",
        "for csg_value, index in csg_results_sorted:\n",
        "    # Asegurarse de que solo se obtengan los archivos de 'cat_c_defocus_blur'\n",
        "    filename = filenames_dict.get(index + len(images_cat), \"Archivo no encontrado\")\n",
        "    print(f\"Índice: {index}, Valor CSG: {csg_value}, Nombre del archivo: {filename}\")"
      ]
    },
    {
      "cell_type": "code",
      "execution_count": 16,
      "metadata": {},
      "outputs": [
        {
          "name": "stdout",
          "output_type": "stream",
          "text": [
            "\n",
            "Los 10 valores más bajos de CSG y sus respectivos índices:\n",
            "Índice: 4990, Valor CSG: 0.9891884086729094, Nombre del archivo: ..\\Datasets\\CIFAR-10 dos clases\\cat_c_defocus_blur\\49947.png\n",
            "Índice: 3990, Valor CSG: 0.9905717151454363, Nombre del archivo: ..\\Datasets\\CIFAR-10 dos clases\\cat_c_defocus_blur\\39947.png\n",
            "Índice: 2990, Valor CSG: 0.9914829659318637, Nombre del archivo: ..\\Datasets\\CIFAR-10 dos clases\\cat_c_defocus_blur\\29947.png\n",
            "Índice: 1990, Valor CSG: 0.9920762286860582, Nombre del archivo: ..\\Datasets\\CIFAR-10 dos clases\\cat_c_defocus_blur\\19947.png\n",
            "Índice: 990, Valor CSG: 0.9921765358414201, Nombre del archivo: ..\\Datasets\\CIFAR-10 dos clases\\cat_c_defocus_blur\\09947.png\n",
            "Índice: 4185, Valor CSG: 0.9922768304914744, Nombre del archivo: ..\\Datasets\\CIFAR-10 dos clases\\cat_c_defocus_blur\\41883.png\n",
            "Índice: 3387, Valor CSG: 0.992684842112469, Nombre del archivo: ..\\Datasets\\CIFAR-10 dos clases\\cat_c_defocus_blur\\33956.png\n",
            "Índice: 4548, Valor CSG: 0.9927783350057653, Nombre del archivo: ..\\Datasets\\CIFAR-10 dos clases\\cat_c_defocus_blur\\45511.png\n",
            "Índice: 4974, Valor CSG: 0.9928852573977973, Nombre del archivo: ..\\Datasets\\CIFAR-10 dos clases\\cat_c_defocus_blur\\49678.png\n",
            "Índice: 4067, Valor CSG: 0.9929854650393538, Nombre del archivo: ..\\Datasets\\CIFAR-10 dos clases\\cat_c_defocus_blur\\40688.png\n"
          ]
        }
      ],
      "source": [
        "# Asociar índices con valores de CSG\n",
        "csg_results_with_index = [(csg[0], i) for i, csg in enumerate(csg_results)]\n",
        "\n",
        "# Ordenar los resultados de CSG por valor en orden ascendente y seleccionar los 10 más bajos\n",
        "csg_results_sorted = sorted(csg_results_with_index, key=lambda x: x[0])[:10]\n",
        "\n",
        "# Imprimir los 10 valores más bajos junto con el índice de la imagen y el nombre del archivo\n",
        "print(\"\\nLos 10 valores más bajos de CSG y sus respectivos índices:\")\n",
        "for csg_value, index in csg_results_sorted:\n",
        "    # Asegurarse de que solo se obtengan los archivos de 'cat_c_defocus_blur'\n",
        "    filename = filenames_dict.get(index + len(images_cat), \"Archivo no encontrado\")\n",
        "    print(f\"Índice: {index}, Valor CSG: {csg_value}, Nombre del archivo: {filename}\")\n"
      ]
    },
    {
      "cell_type": "code",
      "execution_count": 18,
      "metadata": {},
      "outputs": [
        {
          "name": "stdout",
          "output_type": "stream",
          "text": [
            "Índice: 4990, Valor CSG: 0.9891884086729094, Nombre del archivo: ..\\Datasets\\CIFAR-10 dos clases\\cat_c_defocus_blur\\49947.png\n"
          ]
        }
      ],
      "source": [
        "# Definir el índice específico que deseas revisar\n",
        "indice_especifico = 4990  # índice que desees verificar\n",
        "\n",
        "# Verificar que el índice especificado esté dentro del rango de csg_results\n",
        "if 0 <= indice_especifico < len(csg_results):\n",
        "    # Obtener el valor de CSG en el índice específico\n",
        "    csg_value = csg_results[indice_especifico][0]\n",
        "\n",
        "    # Obtener el nombre del archivo correspondiente usando el diccionario\n",
        "    filename = filenames_dict.get(indice_especifico + len(images_cat), \"Archivo no encontrado\")\n",
        "\n",
        "    # Mostrar el valor de CSG y el nombre del archivo\n",
        "    print(f\"Índice: {indice_especifico}, Valor CSG: {csg_value}, Nombre del archivo: {filename}\")\n",
        "else:\n",
        "    print(\"Índice fuera del rango de csg_results.\")\n"
      ]
    },
    {
      "cell_type": "code",
      "execution_count": 19,
      "metadata": {},
      "outputs": [
        {
          "name": "stdout",
          "output_type": "stream",
          "text": [
            "Resultados exportados a resultados_csg.txt\n"
          ]
        }
      ],
      "source": [
        "# Nombre del archivo de salida\n",
        "output_filename = \"resultados_csg.txt\"\n",
        "\n",
        "# Abrir el archivo en modo de escritura\n",
        "with open(output_filename, \"w\") as file:\n",
        "    # Iterar sobre los resultados de csg y sus índices\n",
        "    for index, csg_result in enumerate(csg_results):\n",
        "        # Obtener el valor de CSG\n",
        "        csg_value = csg_result[0]  # asumimos que csg_result es un array o lista con el valor de CSG en la primera posición\n",
        "        \n",
        "        # Obtener el nombre del archivo correspondiente usando el diccionario\n",
        "        filename = filenames_dict.get(index + len(images_cat), \"Archivo no encontrado\")\n",
        "        \n",
        "        # Escribir en el archivo de texto\n",
        "        file.write(f\"Índice: {index}, Valor CSG: {csg_value}, Nombre del archivo: {filename}\\n\")\n",
        "\n",
        "print(f\"Resultados exportados a {output_filename}\")\n"
      ]
    },
    {
      "cell_type": "code",
      "execution_count": 23,
      "metadata": {},
      "outputs": [
        {
          "name": "stdout",
          "output_type": "stream",
          "text": [
            "Índice: 4990, Valor CSG: 0.9891884086729094, Nombre del archivo: ..\\Datasets\\CIFAR-10 dos clases\\cat_c_defocus_blur\\49947.png\n"
          ]
        }
      ],
      "source": [
        "# Nombre del archivo de entrada\n",
        "input_filename = \"resultados_csg.txt\"\n",
        "\n",
        "# Crear un diccionario para almacenar los resultados\n",
        "csg_dict = {}\n",
        "\n",
        "# Leer el archivo y almacenar los resultados en el diccionario\n",
        "with open(input_filename, \"r\") as file:\n",
        "    for line in file:\n",
        "        # Extraer el índice, el valor de CSG y el nombre del archivo de cada línea\n",
        "        parts = line.strip().split(\", \")\n",
        "        index = int(parts[0].split(\": \")[1])\n",
        "        csg_value = float(parts[1].split(\": \")[1])\n",
        "        filename = parts[2].split(\": \")[1]\n",
        "        \n",
        "        # Almacenar en el diccionario\n",
        "        csg_dict[index] = (csg_value, filename)\n",
        "\n",
        "# Definir el índice específico que deseas revisar\n",
        "indice_especifico = 4990  # índice que desees verificar\n",
        "\n",
        "# Verificar que el índice especificado esté en el diccionario\n",
        "if indice_especifico in csg_dict:\n",
        "    csg_value, filename = csg_dict[indice_especifico]\n",
        "    print(f\"Índice: {indice_especifico}, Valor CSG: {csg_value}, Nombre del archivo: {filename}\")\n",
        "else:\n",
        "    print(\"Índice no encontrado en el archivo.\")\n"
      ]
    }
  ],
  "metadata": {
    "accelerator": "GPU",
    "colab": {
      "collapsed_sections": [
        "bpkH4_UIzT5Q",
        "220taXGnzZ94",
        "weZmSnbPzjth",
        "pn4_UVG9zxwJ",
        "ZKc_Jfpb0EN4",
        "Z4tF-g432bDe",
        "3mpgRfiJsD2C",
        "5uCwF6UQsLeg",
        "JcaBm8762bGS"
      ],
      "provenance": []
    },
    "kernelspec": {
      "display_name": "Python 3",
      "name": "python3"
    },
    "language_info": {
      "codemirror_mode": {
        "name": "ipython",
        "version": 3
      },
      "file_extension": ".py",
      "mimetype": "text/x-python",
      "name": "python",
      "nbconvert_exporter": "python",
      "pygments_lexer": "ipython3",
      "version": "3.12.1"
    }
  },
  "nbformat": 4,
  "nbformat_minor": 0
}
