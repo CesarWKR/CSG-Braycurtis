{
 "cells": [
  {
   "cell_type": "code",
   "execution_count": null,
   "metadata": {},
   "outputs": [],
   "source": [
    "import cleanlab  \n",
    "from cleanlab.classification import CleanLearning  \n",
    "from sklearn.ensemble import RandomForestClassifier  \n",
    "\n",
    "# Supongamos que tienes tus datos y etiquetas  \n",
    "data = ...  # tus características de entrada  \n",
    "labels = ...  # tus etiquetas verdaderas  \n",
    "\n",
    "# Entrena un modelo de ML, por ejemplo, un RandomForest  \n",
    "model = RandomForestClassifier()  \n",
    "model.fit(data, labels)  \n",
    "\n",
    "# Obtén las probabilidades de predicción del modelo  \n",
    "pred_probs = model.predict_proba(data)  \n",
    "\n",
    "# Usa Cleanlab para encontrar problemas de etiquetado  \n",
    "cl = CleanLearning(model)  \n",
    "label_issues = cl.find_label_issues(data, labels, pred_probs=pred_probs)  \n",
    "\n",
    "# Imprime los índices de los datos con problemas de etiquetado  \n",
    "print(\"Problemas de etiquetado encontrados en los índices:\", label_issues)"
   ]
  }
 ],
 "metadata": {
  "language_info": {
   "name": "python"
  }
 },
 "nbformat": 4,
 "nbformat_minor": 2
}
